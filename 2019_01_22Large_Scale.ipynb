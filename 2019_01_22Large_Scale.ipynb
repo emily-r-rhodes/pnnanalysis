{
 "cells": [
  {
   "cell_type": "markdown",
   "metadata": {},
   "source": [
    "## Goals for HPCC/RCC: \n",
    "1. Run full brain scans through my program\n",
    "1. Determine significant differences between various regions \n",
    "    1. Look at density, cell size, roundness etc. in sections (maybe squares, 10 by 10)\n",
    "    1. Calculate averages "
   ]
  },
  {
   "cell_type": "code",
   "execution_count": null,
   "metadata": {},
   "outputs": [],
   "source": [
    "import matplotlib.pyplot as plt\n",
    "\n",
    "import skimage.io\n",
    "from skimage.filters import threshold_mean\n",
    "\n",
    "imname = 'Slice_4_40X_Top_of_Brain.tif'\n",
    "img = skimage.io.imread(imname)\n",
    "\n",
    "nucl = img[:, :, 0]\n",
    "\n",
    "thresh = threshold_mean(nucl)\n",
    "binary = nucl > thresh\n",
    "\n",
    "plt.imshow(binary, cmap='gray')\n",
    "plt.show()"
   ]
  }
 ],
 "metadata": {
  "kernelspec": {
   "display_name": "Python 3",
   "language": "python",
   "name": "python3"
  },
  "language_info": {
   "codemirror_mode": {
    "name": "ipython",
    "version": 3
   },
   "file_extension": ".py",
   "mimetype": "text/x-python",
   "name": "python",
   "nbconvert_exporter": "python",
   "pygments_lexer": "ipython3",
   "version": "3.7.0"
  }
 },
 "nbformat": 4,
 "nbformat_minor": 2
}
