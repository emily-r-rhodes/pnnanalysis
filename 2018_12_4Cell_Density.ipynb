{
 "cells": [
  {
   "cell_type": "code",
   "execution_count": 1,
   "metadata": {},
   "outputs": [
    {
     "name": "stderr",
     "output_type": "stream",
     "text": [
      "C:\\Users\\Emily\\Anaconda3\\lib\\site-packages\\skimage\\util\\arraycrop.py:175: FutureWarning: Using a non-tuple sequence for multidimensional indexing is deprecated; use `arr[tuple(seq)]` instead of `arr[seq]`. In the future this will be interpreted as an array index, `arr[np.array(seq)]`, which will result either in an error or a different result.\n",
      "  cropped = np.array(ar[slices], order=order, copy=True)\n"
     ]
    }
   ],
   "source": [
    "import matplotlib.pyplot as plt\n",
    "\n",
    "import skimage.io\n",
    "from skimage.filters import threshold_mean\n",
    "\n",
    "imname = 'Slice_4_40X_Top_of_Brain.tif'\n",
    "img = skimage.io.imread(imname)\n",
    "\n",
    "nucl = img[:, :, 0]\n",
    "\n",
    "thresh = threshold_mean(nucl)\n",
    "binary = nucl > thresh\n",
    "\n",
    "\n",
    "#removes small objects\n",
    "from skimage.morphology import remove_small_objects\n",
    "\n",
    "clim = remove_small_objects(binary, min_size=100)\n",
    "\n",
    "\n",
    "#smooths the edges of the objects and fills in holes\n",
    "from skimage.filters.rank import median\n",
    "from skimage.morphology import disk\n",
    "from scipy import ndimage as ndi\n",
    "\n",
    "fill_cells = median(ndi.binary_fill_holes(clim), disk(2))\n",
    "\n",
    "\n",
    "#watersheds the objects separating them into more objects\n",
    "import numpy as np\n",
    "import matplotlib.pyplot as plt\n",
    "from scipy import ndimage as ndi\n",
    "\n",
    "from skimage.morphology import watershed\n",
    "from skimage.feature import peak_local_max\n",
    "\n",
    "# Generate the markers as local maxima of the distance to the background\n",
    "distance = ndi.distance_transform_edt(fill_cells)\n",
    "local_maxi = peak_local_max(distance, indices=False, footprint=np.ones((5,5)),\n",
    "                            labels=fill_cells)\n",
    "markers = ndi.label(local_maxi)[0]\n",
    "labels = watershed(-distance, markers, mask=fill_cells)"
   ]
  },
  {
   "cell_type": "code",
   "execution_count": 2,
   "metadata": {},
   "outputs": [
    {
     "data": {
      "text/plain": [
       "507"
      ]
     },
     "execution_count": 2,
     "metadata": {},
     "output_type": "execute_result"
    }
   ],
   "source": [
    "labels.max()"
   ]
  },
  {
   "cell_type": "code",
   "execution_count": 3,
   "metadata": {},
   "outputs": [],
   "source": [
    "import numpy as np\n",
    "import math as m\n",
    "\n",
    "props = skimage.measure.regionprops(labels)\n",
    "\n",
    "numobj = labels.max()\n",
    "\n",
    "objects = np.zeros((numobj, 7)) #rows, columns\n",
    "\n",
    "i = 0 \n",
    "while i < numobj:\n",
    "    objects[i,0] = (i + 1)\n",
    "    objects[i,1] = props[i].centroid[0] #x-coordinate\n",
    "    objects[i,2] = props[i].centroid[1] #y-coordinate\n",
    "    objects[i,3] = props[i].area\n",
    "    objects[i,4] = props[i].perimeter  \n",
    "    objects[i,5] = ((props[i].perimeter)**2)/(4*m.pi*props[i].area)\n",
    "    i = i + 1"
   ]
  },
  {
   "cell_type": "code",
   "execution_count": 4,
   "metadata": {},
   "outputs": [
    {
     "data": {
      "text/plain": [
       "array([[  1.        ,   7.        , 146.41176471, ...,  19.07106781,\n",
       "          0.85125807,   0.        ],\n",
       "       [  2.        ,   9.09183673, 303.81122449, ...,  51.45584412,\n",
       "          1.07498766,   0.        ],\n",
       "       [  3.        ,  10.23636364, 435.52727273, ...,  27.10660172,\n",
       "          1.06310851,   0.        ],\n",
       "       ...,\n",
       "       [505.        , 508.34375   , 293.40625   , ...,  19.65685425,\n",
       "          0.96087787,   0.        ],\n",
       "       [506.        , 508.20588235, 366.88235294, ...,  31.07106781,\n",
       "          1.12977922,   0.        ],\n",
       "       [507.        , 509.12765957, 123.61702128, ...,  27.07106781,\n",
       "          1.24080362,   0.        ]])"
      ]
     },
     "execution_count": 4,
     "metadata": {},
     "output_type": "execute_result"
    }
   ],
   "source": [
    "objects"
   ]
  },
  {
   "cell_type": "code",
   "execution_count": 5,
   "metadata": {},
   "outputs": [],
   "source": [
    "x1 = int(objects[1,1]) - 50\n",
    "if x1 < 0:\n",
    "    x1 = 0\n",
    "y1 = int(objects[1,2]) - 50\n",
    "if y1 < 0:\n",
    "    y1 = 0\n",
    "x2 = int(objects[1,1]) + 50\n",
    "y2 = int(objects[1,2]) + 50\n",
    "\n",
    "cropped = labels[x1:x2,y1:y2]"
   ]
  },
  {
   "cell_type": "code",
   "execution_count": 8,
   "metadata": {},
   "outputs": [
    {
     "data": {
      "text/plain": [
       "8"
      ]
     },
     "execution_count": 8,
     "metadata": {},
     "output_type": "execute_result"
    }
   ],
   "source": [
    "height, width = cropped.shape\n",
    "\n",
    "distinctNums(cropped, width, height)"
   ]
  },
  {
   "cell_type": "code",
   "execution_count": 9,
   "metadata": {},
   "outputs": [],
   "source": [
    "def distinctNums(arr, width, height): \n",
    "    nums = []\n",
    "    for i in range(0,width):\n",
    "        for j in range(0,height):\n",
    "\n",
    "            d = 0\n",
    "            for k in range(0,len(nums)):\n",
    "                if (arr[j,i] == nums[k]):\n",
    "                    d = 1\n",
    "                    break\n",
    "\n",
    "            if (d == 0): \n",
    "                    nums.append(arr[j,i])\n",
    "    return (len(nums))"
   ]
  },
  {
   "cell_type": "code",
   "execution_count": 31,
   "metadata": {},
   "outputs": [],
   "source": [
    "h1 = int(height/8)"
   ]
  },
  {
   "cell_type": "code",
   "execution_count": 36,
   "metadata": {},
   "outputs": [],
   "source": [
    "height, width = labels.shape\n",
    "\n",
    "heatMap = np.zeros((height, width))\n",
    "\n",
    "for y in range(0, int(height/16)):\n",
    "    for x in range(0, int(width/16)):\n",
    "        x1 = x*16\n",
    "        y1 = y*16\n",
    "        x2 = x*16 + 16\n",
    "        y2 = y*16 + 16\n",
    "        cropped = labels[x1:x2,y1:y2]\n",
    "        for s in range(y1, y2):\n",
    "            for t in range(x1, x2):\n",
    "                heatMap[s,t] = distinctNums(cropped, 16, 16)\n",
    "        "
   ]
  },
  {
   "cell_type": "code",
   "execution_count": 39,
   "metadata": {},
   "outputs": [
    {
     "data": {
      "image/png": "[encoded data removed]",
      "text/plain": [
       "<Figure size 432x288 with 1 Axes>"
      ]
     },
     "metadata": {
      "needs_background": "light"
     },
     "output_type": "display_data"
    },
    {
     "data": {
      "image/png": "[encoded data removed]",
      "text/plain": [
       "<Figure size 288x288 with 1 Axes>"
      ]
     },
     "metadata": {
      "needs_background": "light"
     },
     "output_type": "display_data"
    }
   ],
   "source": [
    "plt.imshow(heatMap)\n",
    "plt.show()\n",
    "\n",
    "fig = plt.figure(figsize =(4,4))\n",
    "a = fig.add_subplot(1,1,1)\n",
    "imgplot = plt.imshow(heatMap)\n",
    "a.set_title('Heat Map', fontsize = 20)\n",
    "a.set_axis_off()\n",
    " \n",
    "fig.savefig('Cell_Density_Heat_Map.png')"
   ]
  },
  {
   "cell_type": "code",
   "execution_count": 41,
   "metadata": {},
   "outputs": [
    {
     "data": {
      "text/plain": [
       "8.0"
      ]
     },
     "execution_count": 41,
     "metadata": {},
     "output_type": "execute_result"
    }
   ],
   "source": [
    "heatMap.max()"
   ]
  },
  {
   "cell_type": "code",
   "execution_count": 15,
   "metadata": {},
   "outputs": [],
   "source": [
    "def objectsNearBy(objects):\n",
    "    numObjects, descriptors = objects.shape\n",
    "    for n in range(0,numObjects):\n",
    "        x1 = int(objects[n,1]) - 50\n",
    "        if x1 < 0:\n",
    "            x1 = 0\n",
    "        y1 = int(objects[n,2]) - 50\n",
    "        if y1 < 0:\n",
    "            y1 = 0\n",
    "        x2 = int(objects[n,1]) + 50\n",
    "        y2 = int(objects[n,2]) + 50\n",
    "\n",
    "        cropped = labels[x1:x2,y1:y2]\n",
    "        \n",
    "        height, width = cropped.shape\n",
    "        \n",
    "        objects[n, 6] = distinctNums(cropped, width, height)\n",
    "        \n",
    "    return objects\n",
    "        "
   ]
  },
  {
   "cell_type": "code",
   "execution_count": 16,
   "metadata": {},
   "outputs": [],
   "source": [
    "extrarowobjects = objectsNearBy(objects)"
   ]
  },
  {
   "cell_type": "code",
   "execution_count": 17,
   "metadata": {},
   "outputs": [
    {
     "data": {
      "text/plain": [
       "array([[  1.        ,   7.        , 146.41176471, ...,  19.07106781,\n",
       "          0.85125807,  14.        ],\n",
       "       [  2.        ,   9.09183673, 303.81122449, ...,  51.45584412,\n",
       "          1.07498766,   8.        ],\n",
       "       [  3.        ,  10.23636364, 435.52727273, ...,  27.10660172,\n",
       "          1.06310851,  11.        ],\n",
       "       ...,\n",
       "       [505.        , 508.34375   , 293.40625   , ...,  19.65685425,\n",
       "          0.96087787,  15.        ],\n",
       "       [506.        , 508.20588235, 366.88235294, ...,  31.07106781,\n",
       "          1.12977922,  13.        ],\n",
       "       [507.        , 509.12765957, 123.61702128, ...,  27.07106781,\n",
       "          1.24080362,  20.        ]])"
      ]
     },
     "execution_count": 17,
     "metadata": {},
     "output_type": "execute_result"
    }
   ],
   "source": [
    "extrarowobjects"
   ]
  },
  {
   "cell_type": "code",
   "execution_count": 40,
   "metadata": {},
   "outputs": [
    {
     "data": {
      "image/png": "[encoded data removed]",
      "text/plain": [
       "<Figure size 432x288 with 1 Axes>"
      ]
     },
     "metadata": {
      "needs_background": "light"
     },
     "output_type": "display_data"
    }
   ],
   "source": [
    "plt.imshow(cropped)\n",
    "plt.show()"
   ]
  },
  {
   "cell_type": "code",
   "execution_count": 32,
   "metadata": {},
   "outputs": [
    {
     "data": {
      "image/png": "[encoded data removed]",
      "text/plain": [
       "<Figure size 432x288 with 1 Axes>"
      ]
     },
     "metadata": {
      "needs_background": "light"
     },
     "output_type": "display_data"
    }
   ],
   "source": [
    "plt.imshow(clim, cmap='gray')\n",
    "plt.show()"
   ]
  },
  {
   "cell_type": "code",
   "execution_count": 33,
   "metadata": {},
   "outputs": [
    {
     "name": "stdout",
     "output_type": "stream",
     "text": [
      "0 59 253 353\n"
     ]
    }
   ],
   "source": [
    "print(x1, x2, y1, y2)"
   ]
  },
  {
   "cell_type": "code",
   "execution_count": 35,
   "metadata": {},
   "outputs": [
    {
     "data": {
      "image/png": "[encoded data removed]",
      "text/plain": [
       "<Figure size 432x288 with 1 Axes>"
      ]
     },
     "metadata": {
      "needs_background": "light"
     },
     "output_type": "display_data"
    }
   ],
   "source": [
    "cropped = clim[0:50,0:50]\n",
    "plt.imshow(cropped, cmap='gray')\n",
    "plt.show()"
   ]
  },
  {
   "cell_type": "code",
   "execution_count": null,
   "metadata": {},
   "outputs": [],
   "source": [
    "heat map - display the density of each \"box \" within the image \n",
    "\n",
    "Put in image, get out the cell count, denisty of image, average cell size\n"
   ]
  }
 ],
 "metadata": {
  "kernelspec": {
   "display_name": "Python 3",
   "language": "python",
   "name": "python3"
  },
  "language_info": {
   "codemirror_mode": {
    "name": "ipython",
    "version": 3
   },
   "file_extension": ".py",
   "mimetype": "text/x-python",
   "name": "python",
   "nbconvert_exporter": "python",
   "pygments_lexer": "ipython3",
   "version": "3.7.0"
  }
 },
 "nbformat": 4,
 "nbformat_minor": 2
}
