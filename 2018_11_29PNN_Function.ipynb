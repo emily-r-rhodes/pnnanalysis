{
 "cells": [
  {
   "cell_type": "code",
   "execution_count": 1,
   "metadata": {},
   "outputs": [],
   "source": [
    "def pnn(imname):\n",
    "    import matplotlib.pyplot as plt\n",
    "    import skimage.io\n",
    "    from skimage.filters import threshold_mean\n",
    "    from skimage.morphology import remove_small_objects\n",
    "\n",
    "    img = skimage.io.imread(imname) #the image needs to be in the same folder as the code\n",
    "\n",
    "    pnn = img[:, :, 1]\n",
    "\n",
    "    thresh = threshold_mean(pnn)\n",
    "    pnnbinary = pnn > thresh\n",
    "    \n",
    "    from skimage.filters.rank import median\n",
    "    from skimage.morphology import disk\n",
    "    from scipy import ndimage as ndi\n",
    "\n",
    "    fillpnn = median(ndi.binary_fill_holes(pnnbinary), disk(2))\n",
    "    \n",
    "    threshfill = threshold_mean(fillpnn)\n",
    "    fillpnnbinary = fillpnn > threshfill\n",
    "\n",
    "    pnnclim = remove_small_objects(fillpnnbinary, min_size=3000)\n",
    "    \n",
    "    return [pnnclim]"
   ]
  },
  {
   "cell_type": "code",
   "execution_count": 2,
   "metadata": {},
   "outputs": [],
   "source": [
    "pnnclim = pnn('HBBS_vid_1_overlay_frame_1.tif')"
   ]
  },
  {
   "cell_type": "code",
   "execution_count": 3,
   "metadata": {},
   "outputs": [],
   "source": [
    "def listparticles(imname):\n",
    "    import matplotlib.pyplot as plt\n",
    "    import skimage.io\n",
    "    from skimage.filters import threshold_yen\n",
    "    import numpy as np\n",
    "    import math as m\n",
    "\n",
    "    img = skimage.io.imread(imname) #the image needs to be in the same folder as the code\n",
    "\n",
    "    #channel 0 = particles\n",
    "    partim = img[:, :, 0]\n",
    "\n",
    "    #binary image\n",
    "    thresh = threshold_yen(partim)\n",
    "    partbinary = partim > thresh\n",
    "\n",
    "    #label each object in the image\n",
    "    partlbim = skimage.measure.label(partbinary)\n",
    "\n",
    "    #set properties\n",
    "    props = skimage.measure.regionprops(partlbim)\n",
    "\n",
    "    numobj = partlbim.max()\n",
    "\n",
    "    particles = np.zeros((numobj, 2)) #rows, columns\n",
    "\n",
    "    i = 0 \n",
    "    while i < numobj:\n",
    "        particles[i,0] = props[i].centroid[0] #x-coordinate\n",
    "        particles[i,1] = props[i].centroid[1] #y-coordinate\n",
    "        i = i + 1\n",
    "    \n",
    "    return particles"
   ]
  },
  {
   "cell_type": "code",
   "execution_count": 4,
   "metadata": {},
   "outputs": [],
   "source": [
    "xyparticles = listparticles('HBBS_vid_1_overlay_frame_1.tif')"
   ]
  },
  {
   "cell_type": "code",
   "execution_count": 5,
   "metadata": {},
   "outputs": [
    {
     "data": {
      "text/plain": [
       "array([[ 50.63218391,  86.73563218],\n",
       "       [ 86.99438202, 332.84269663],\n",
       "       [ 96.66666667, 326.33333333],\n",
       "       [106.48148148, 335.18518519],\n",
       "       [157.54545455,  80.36363636],\n",
       "       [207.875     , 368.875     ],\n",
       "       [234.08333333, 179.33333333],\n",
       "       [247.66666667, 281.66666667],\n",
       "       [296.53191489, 244.10638298],\n",
       "       [329.        , 387.54545455]])"
      ]
     },
     "execution_count": 5,
     "metadata": {},
     "output_type": "execute_result"
    }
   ],
   "source": [
    "xyparticles"
   ]
  },
  {
   "cell_type": "code",
   "execution_count": 6,
   "metadata": {},
   "outputs": [],
   "source": [
    "def partbin(particles, pnnclim):\n",
    "    import numpy as np\n",
    "    \n",
    "    partdistance = np.zeros((len(particles), 4)) #array with x, and y coordinates of particles and the distance to the cells\n",
    "    \n",
    "    from scipy import ndimage as ndi\n",
    "    distance = ndi.distance_transform_edt(np.invert(pnnclim))[0,:,:]\n",
    "    \n",
    "    for i in range(0,len(particles)): #need parenthese not brackets\n",
    "        partdistance[i,0] = int(particles[i,0])\n",
    "        partdistance[i,1] = int(particles[i,1])\n",
    "        partdistance[i,2] = distance[int(particles[i,0]),int(particles[i,1])] #force int\n",
    "        if partdistance[i,2] == 0:\n",
    "            partdistance[i,3] = 1\n",
    "        elif partdistance[i,2] > 0 and partdistance[i,2] <= 20:\n",
    "            partdistance[i,3] = 2\n",
    "        elif partdistance[i,2] > 20 and partdistance[i,2] <= 80: \n",
    "            partdistance[i,3] = 3\n",
    "        else:\n",
    "            partdistance[i,3] = 4\n",
    "\n",
    "    return [partdistance]"
   ]
  },
  {
   "cell_type": "code",
   "execution_count": 7,
   "metadata": {},
   "outputs": [
    {
     "data": {
      "text/plain": [
       "[array([[ 50.        ,  86.        , 105.36128321,   4.        ],\n",
       "        [ 86.        , 332.        ,  42.48529157,   3.        ],\n",
       "        [ 96.        , 326.        ,  30.87069808,   3.        ],\n",
       "        [106.        , 335.        ,  28.31960452,   3.        ],\n",
       "        [157.        ,  80.        ,  85.0940656 ,   4.        ],\n",
       "        [207.        , 368.        ,  54.4242593 ,   3.        ],\n",
       "        [234.        , 179.        ,  13.60147051,   2.        ],\n",
       "        [247.        , 281.        ,   1.        ,   2.        ],\n",
       "        [296.        , 244.        ,   2.23606798,   2.        ],\n",
       "        [329.        , 387.        ,  87.32124598,   4.        ]])]"
      ]
     },
     "execution_count": 7,
     "metadata": {},
     "output_type": "execute_result"
    }
   ],
   "source": [
    "partbin(xyparticles, pnnclim)"
   ]
  },
  {
   "cell_type": "code",
   "execution_count": null,
   "metadata": {},
   "outputs": [],
   "source": []
  }
 ],
 "metadata": {
  "kernelspec": {
   "display_name": "Python 3",
   "language": "python",
   "name": "python3"
  },
  "language_info": {
   "codemirror_mode": {
    "name": "ipython",
    "version": 3
   },
   "file_extension": ".py",
   "mimetype": "text/x-python",
   "name": "python",
   "nbconvert_exporter": "python",
   "pygments_lexer": "ipython3",
   "version": "3.7.3"
  }
 },
 "nbformat": 4,
 "nbformat_minor": 2
}
