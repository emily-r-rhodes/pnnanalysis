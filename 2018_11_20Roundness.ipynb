{
 "cells": [
  {
   "cell_type": "code",
   "execution_count": 1,
   "metadata": {},
   "outputs": [
    {
     "data": {
      "text/plain": [
       "<Figure size 640x480 with 1 Axes>"
      ]
     },
     "metadata": {},
     "output_type": "display_data"
    }
   ],
   "source": [
    "import matplotlib.pyplot as plt\n",
    "\n",
    "import skimage.io\n",
    "from skimage.filters import threshold_mean\n",
    "from skimage.color import rgb2gray\n",
    "\n",
    "imname = 'Slice_4_40X_Top_of_Brain.tif'\n",
    "img = skimage.io.imread(imname)\n",
    "\n",
    "img_gray = img[:, :, 0]\n",
    "\n",
    "thresh = threshold_mean(img_gray)\n",
    "binary = img_gray > thresh\n",
    "\n",
    "import matplotlib.pyplot as plt\n",
    "\n",
    "plt.imshow(binary, cmap='gray')\n",
    "plt.show()"
   ]
  },
  {
   "cell_type": "code",
   "execution_count": 2,
   "metadata": {},
   "outputs": [
    {
     "data": {
      "image/png": "[encoded data removed]",
      "text/plain": [
       "<Figure size 432x288 with 1 Axes>"
      ]
     },
     "metadata": {
      "needs_background": "light"
     },
     "output_type": "display_data"
    }
   ],
   "source": [
    "from skimage.morphology import remove_small_objects\n",
    "\n",
    "clim = remove_small_objects(binary, min_size=100)\n",
    "plt.imshow(clim, cmap='gray')\n",
    "plt.show()"
   ]
  },
  {
   "cell_type": "code",
   "execution_count": 3,
   "metadata": {},
   "outputs": [
    {
     "data": {
      "image/png": "[encoded data removed]",
      "text/plain": [
       "<Figure size 432x288 with 1 Axes>"
      ]
     },
     "metadata": {
      "needs_background": "light"
     },
     "output_type": "display_data"
    }
   ],
   "source": [
    "lbim = skimage.measure.label(clim) #clean image that is labeled with each object being a different number\n",
    "\n",
    "plt.imshow(lbim)\n",
    "plt.show()"
   ]
  },
  {
   "cell_type": "code",
   "execution_count": 4,
   "metadata": {},
   "outputs": [
    {
     "data": {
      "text/plain": [
       "array([[  1,   1,   1, ...,   0,   0,   0],\n",
       "       [  1,   1,   1, ...,   0,   0,   0],\n",
       "       [  1,   1,   1, ...,   0,   0,   0],\n",
       "       ...,\n",
       "       [  0,   0,   0, ...,   0, 180, 180],\n",
       "       [  0,   0,   0, ...,   0, 180, 180],\n",
       "       [  0,   0,   0, ..., 180, 180, 180]], dtype=int64)"
      ]
     },
     "execution_count": 4,
     "metadata": {},
     "output_type": "execute_result"
    }
   ],
   "source": [
    "lbim"
   ]
  },
  {
   "cell_type": "code",
   "execution_count": 5,
   "metadata": {},
   "outputs": [],
   "source": [
    "import numpy as np\n",
    "import math as m\n",
    "\n",
    "props = skimage.measure.regionprops(lbim)\n",
    "\n",
    "numobj = lbim.max()\n",
    "\n",
    "objects = np.zeros((numobj, 6)) #rows, columns\n",
    "\n",
    "i = 0 \n",
    "while i < numobj:\n",
    "    objects[i,0] = (i + 1)\n",
    "    objects[i,1] = props[i].centroid[0] #x-coordinate\n",
    "    objects[i,2] = props[i].centroid[1] #y-coordinate\n",
    "    objects[i,3] = props[i].area\n",
    "    objects[i,4] = props[i].perimeter  \n",
    "    objects[i,5] = ((props[i].perimeter)**2)/(4*m.pi*props[i].area)\n",
    "    i = i + 1"
   ]
  },
  {
   "cell_type": "code",
   "execution_count": 6,
   "metadata": {},
   "outputs": [
    {
     "data": {
      "text/plain": [
       "array([[1.00000000e+00, 3.15873016e+00, 8.78571429e+00, 1.26000000e+02,\n",
       "        6.32487373e+01, 2.52652332e+00],\n",
       "       [2.00000000e+00, 2.06696589e+01, 6.45451825e+01, 1.67100000e+03,\n",
       "        3.99646753e+02, 7.60617413e+00],\n",
       "       [3.00000000e+00, 1.14238876e+01, 1.34805621e+02, 4.27000000e+02,\n",
       "        1.69675144e+02, 5.36535812e+00],\n",
       "       ...,\n",
       "       [1.82000000e+02, 5.05929825e+02, 1.25236842e+02, 1.14000000e+02,\n",
       "        3.92132034e+01, 1.07337118e+00],\n",
       "       [1.83000000e+02, 5.06078431e+02, 3.66205882e+02, 1.02000000e+02,\n",
       "        4.19705627e+01, 1.37429368e+00],\n",
       "       [1.84000000e+02, 5.07972477e+02, 2.66697248e+01, 1.09000000e+02,\n",
       "        4.05208153e+01, 1.19872617e+00]])"
      ]
     },
     "execution_count": 6,
     "metadata": {},
     "output_type": "execute_result"
    }
   ],
   "source": [
    "objects"
   ]
  },
  {
   "cell_type": "code",
   "execution_count": 22,
   "metadata": {},
   "outputs": [
    {
     "ename": "TypeError",
     "evalue": "'<' not supported between instances of 'int' and 'tuple'",
     "output_type": "error",
     "traceback": [
      "\u001b[1;31m---------------------------------------------------------------------------\u001b[0m",
      "\u001b[1;31mTypeError\u001b[0m                                 Traceback (most recent call last)",
      "\u001b[1;32m<ipython-input-22-73b11ea69b27>\u001b[0m in \u001b[0;36m<module>\u001b[1;34m()\u001b[0m\n\u001b[0;32m      5\u001b[0m \u001b[0mthreshold\u001b[0m \u001b[1;33m=\u001b[0m \u001b[1;36m2.5\u001b[0m\u001b[1;33m\u001b[0m\u001b[0m\n\u001b[0;32m      6\u001b[0m \u001b[1;33m\u001b[0m\u001b[0m\n\u001b[1;32m----> 7\u001b[1;33m \u001b[1;32mwhile\u001b[0m \u001b[0mi\u001b[0m \u001b[1;33m<\u001b[0m \u001b[0mnumobj\u001b[0m\u001b[1;33m:\u001b[0m\u001b[1;33m\u001b[0m\u001b[0m\n\u001b[0m\u001b[0;32m      8\u001b[0m     \u001b[1;32mif\u001b[0m \u001b[0mobjects\u001b[0m\u001b[1;33m[\u001b[0m\u001b[0mi\u001b[0m\u001b[1;33m,\u001b[0m\u001b[1;36m5\u001b[0m\u001b[1;33m]\u001b[0m \u001b[1;33m>\u001b[0m \u001b[0mthreshold\u001b[0m\u001b[1;33m:\u001b[0m\u001b[1;33m\u001b[0m\u001b[0m\n\u001b[0;32m      9\u001b[0m         \u001b[0mobjects\u001b[0m \u001b[1;33m=\u001b[0m \u001b[0mnp\u001b[0m\u001b[1;33m.\u001b[0m\u001b[0mdelete\u001b[0m\u001b[1;33m(\u001b[0m\u001b[0mobjects\u001b[0m\u001b[1;33m,\u001b[0m \u001b[1;33m(\u001b[0m\u001b[0mi\u001b[0m\u001b[1;33m)\u001b[0m\u001b[1;33m,\u001b[0m \u001b[0maxis\u001b[0m\u001b[1;33m=\u001b[0m\u001b[1;36m0\u001b[0m\u001b[1;33m)\u001b[0m\u001b[1;33m\u001b[0m\u001b[0m\n",
      "\u001b[1;31mTypeError\u001b[0m: '<' not supported between instances of 'int' and 'tuple'"
     ]
    }
   ],
   "source": [
    "import numpy as np\n",
    "\n",
    "i = 0 \n",
    "\n",
    "threshold = 2.5\n",
    "\n",
    "while i < numobj:\n",
    "    if objects[i,5] > threshold:\n",
    "        objects = np.delete(objects, (i), axis=0)\n",
    "    numobj = objects.shape[0]\n",
    "    i = i + 1"
   ]
  },
  {
   "cell_type": "code",
   "execution_count": 18,
   "metadata": {},
   "outputs": [
    {
     "data": {
      "text/plain": [
       "151"
      ]
     },
     "execution_count": 18,
     "metadata": {},
     "output_type": "execute_result"
    }
   ],
   "source": [
    "numobj"
   ]
  },
  {
   "cell_type": "code",
   "execution_count": 19,
   "metadata": {},
   "outputs": [
    {
     "data": {
      "text/plain": [
       "(109, 6)"
      ]
     },
     "execution_count": 19,
     "metadata": {},
     "output_type": "execute_result"
    }
   ],
   "source": [
    "objects.shape"
   ]
  },
  {
   "cell_type": "code",
   "execution_count": 14,
   "metadata": {},
   "outputs": [
    {
     "data": {
      "text/plain": [
       "array([[1.00000000e+00, 3.15873016e+00, 8.78571429e+00, 1.26000000e+02,\n",
       "        6.32487373e+01, 2.52652332e+00],\n",
       "       [2.00000000e+00, 2.06696589e+01, 6.45451825e+01, 1.67100000e+03,\n",
       "        3.99646753e+02, 7.60617413e+00],\n",
       "       [3.00000000e+00, 1.14238876e+01, 1.34805621e+02, 4.27000000e+02,\n",
       "        1.69675144e+02, 5.36535812e+00],\n",
       "       ...,\n",
       "       [1.82000000e+02, 5.05929825e+02, 1.25236842e+02, 1.14000000e+02,\n",
       "        3.92132034e+01, 1.07337118e+00],\n",
       "       [1.83000000e+02, 5.06078431e+02, 3.66205882e+02, 1.02000000e+02,\n",
       "        4.19705627e+01, 1.37429368e+00],\n",
       "       [1.84000000e+02, 5.07972477e+02, 2.66697248e+01, 1.09000000e+02,\n",
       "        4.05208153e+01, 1.19872617e+00]])"
      ]
     },
     "execution_count": 14,
     "metadata": {},
     "output_type": "execute_result"
    }
   ],
   "source": [
    "objects"
   ]
  },
  {
   "cell_type": "code",
   "execution_count": 12,
   "metadata": {},
   "outputs": [
    {
     "data": {
      "text/plain": [
       "array([[  1.        ,   3.15873016,   8.78571429, 126.        ,\n",
       "         63.24873734,   2.52652332],\n",
       "       [  3.        ,  11.42388759, 134.80562061, 427.        ,\n",
       "        169.67514421,   5.36535812],\n",
       "       [  4.        ,   3.91869919, 243.17886179, 123.        ,\n",
       "         62.6629509 ,   2.54042694],\n",
       "       ...,\n",
       "       [182.        , 505.92982456, 125.23684211, 114.        ,\n",
       "         39.21320344,   1.07337118],\n",
       "       [183.        , 506.07843137, 366.20588235, 102.        ,\n",
       "         41.97056275,   1.37429368],\n",
       "       [184.        , 507.97247706,  26.66972477, 109.        ,\n",
       "         40.52081528,   1.19872617]])"
      ]
     },
     "execution_count": 12,
     "metadata": {},
     "output_type": "execute_result"
    }
   ],
   "source": [
    "np.delete(objects, (1), axis=0)"
   ]
  },
  {
   "cell_type": "code",
   "execution_count": null,
   "metadata": {},
   "outputs": [],
   "source": []
  }
 ],
 "metadata": {
  "kernelspec": {
   "display_name": "Python 3",
   "language": "python",
   "name": "python3"
  },
  "language_info": {
   "codemirror_mode": {
    "name": "ipython",
    "version": 3
   },
   "file_extension": ".py",
   "mimetype": "text/x-python",
   "name": "python",
   "nbconvert_exporter": "python",
   "pygments_lexer": "ipython3",
   "version": "3.7.0"
  }
 },
 "nbformat": 4,
 "nbformat_minor": 2
}
